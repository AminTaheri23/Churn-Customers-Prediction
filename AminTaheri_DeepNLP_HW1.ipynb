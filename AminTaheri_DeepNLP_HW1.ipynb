{
  "nbformat": 4,
  "nbformat_minor": 0,
  "metadata": {
    "colab": {
      "name": "AminTaheri-DeepNLP - HW1.ipynb",
      "provenance": [],
      "collapsed_sections": [
        "UimCa6Fai1TB",
        "sFy9demSjAup",
        "oGqTD1aEjH0v",
        "O6W_RJrVjsWo",
        "jVY3Ykf7jO9e",
        "FBkqux5hj5Zd"
      ],
      "include_colab_link": true
    },
    "kernelspec": {
      "display_name": "Python 3",
      "language": "python",
      "name": "python3"
    },
    "language_info": {
      "codemirror_mode": {
        "name": "ipython",
        "version": 3
      },
      "file_extension": ".py",
      "mimetype": "text/x-python",
      "name": "python",
      "nbconvert_exporter": "python",
      "pygments_lexer": "ipython3",
      "version": "3.7.7"
    }
  },
  "cells": [
    {
      "cell_type": "markdown",
      "metadata": {
        "id": "view-in-github",
        "colab_type": "text"
      },
      "source": [
        "<a href=\"https://colab.research.google.com/github/AminTaheri23/Churn-Customers-Prediction/blob/master/AminTaheri_DeepNLP_HW1.ipynb\" target=\"_parent\"><img src=\"https://colab.research.google.com/assets/colab-badge.svg\" alt=\"Open In Colab\"/></a>"
      ]
    },
    {
      "cell_type": "markdown",
      "metadata": {
        "colab_type": "text",
        "id": "UimCa6Fai1TB"
      },
      "source": [
        "## Instruction\n",
        "1.   Load a dataset\n",
        "2.   Creating a model \n",
        "3.   Compile the model\n",
        "4.   Fit the model\n",
        "5.   Evaluate the model\n",
        "6.   visualize the process\n"
      ]
    },
    {
      "cell_type": "code",
      "metadata": {
        "colab_type": "code",
        "id": "8E8W3sJCikiK",
        "outputId": "6ddce6b9-5713-4b36-a65f-9b80dc18b6d3",
        "colab": {
          "resources": {
            "http://localhost:8080/nbextensions/google.colab/files.js": {
              "data": "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",
              "headers": [
                [
                  "content-type",
                  "application/javascript"
                ]
              ],
              "ok": true,
              "status": 200,
              "status_text": ""
            }
          },
          "base_uri": "https://localhost:8080/",
          "height": 40
        }
      },
      "source": [
        "! wget https://github.com/sharmaroshan/Churn-Modelling-Dataset/blob/master/Churn_Modelling.csv"
      ],
      "execution_count": 0,
      "outputs": [
        {
          "output_type": "stream",
          "text": [
            "'wget' is not recognized as an internal or external command,\n",
            "operable program or batch file.\n"
          ],
          "name": "stderr"
        }
      ]
    },
    {
      "cell_type": "code",
      "metadata": {
        "colab_type": "code",
        "id": "qqXyBDtpDhID",
        "outputId": "4917172d-1f3c-410b-898c-8a318c94f78f",
        "colab": {
          "base_uri": "https://localhost:8080/",
          "height": 34
        }
      },
      "source": [
        "! ls"
      ],
      "execution_count": 0,
      "outputs": [
        {
          "output_type": "stream",
          "text": [
            "Churn_Modelling.csv  sample_data\n"
          ],
          "name": "stdout"
        }
      ]
    },
    {
      "cell_type": "code",
      "metadata": {
        "colab_type": "code",
        "id": "ISqZdFArijXZ",
        "outputId": "a9cfd8aa-803d-451a-e371-8ddeae86c56d",
        "colab": {
          "base_uri": "https://localhost:8080/",
          "height": 221
        }
      },
      "source": [
        "# preprocessing\n",
        "\n",
        "import pandas as pd\n",
        "\n",
        "ourdata = pd.read_csv(\"Churn_Modelling.csv\") \n",
        "\n",
        "what_to_drop = ['RowNumber', 'Surname', 'CustomerId',]\n",
        "ourdata.drop(what_to_drop,  axis=1, inplace=True)\n",
        "\n",
        "ourdata.Geography.replace(['France', 'Spain', 'Germany'], [0,1,2], inplace=True)\n",
        "ourdata.Gender.replace(['Female', 'Male'], [0,1], inplace=True)\n",
        "\n",
        "from keras.utils import to_categorical\n",
        "ourdata = ourdata.join(pd.DataFrame(to_categorical(ourdata.Geography, num_classes=3),\n",
        "                              columns = ['France','Spain', 'Germany']))\n",
        "ourdata = ourdata.join(pd.DataFrame(to_categorical(ourdata.Gender, num_classes=2),\n",
        "                              columns=['Female', 'Male']))\n",
        "ourdata.drop(['Gender', 'Geography'], axis=1, inplace=True)\n",
        "\n",
        "\n",
        "ourdata.Exited.describe()\n",
        "\n",
        "#reordering Exited column\n",
        "ourdata = ourdata[['CreditScore', 'Age', 'Tenure', 'Balance', 'NumOfProducts', 'HasCrCard',\n",
        "       'IsActiveMember', 'EstimatedSalary', 'France', 'Spain',\n",
        "       'Germany', 'Female', 'Male', 'Exited']]\n",
        "\n",
        "ourdata.head()\n",
        "from sklearn.model_selection import train_test_split\n",
        "\n",
        "x = ourdata.iloc[:, 0:13]\n",
        "y = ourdata.iloc[:, 13]\n",
        "\n",
        "x_train, x_test, y_train, y_test = train_test_split(x, y, test_size=0.2)\n",
        "\n",
        "x_train.head()"
      ],
      "execution_count": 0,
      "outputs": [
        {
          "output_type": "stream",
          "text": [
            "Using TensorFlow backend.\n"
          ],
          "name": "stderr"
        },
        {
          "output_type": "execute_result",
          "data": {
            "text/html": [
              "<div>\n",
              "<style scoped>\n",
              "    .dataframe tbody tr th:only-of-type {\n",
              "        vertical-align: middle;\n",
              "    }\n",
              "\n",
              "    .dataframe tbody tr th {\n",
              "        vertical-align: top;\n",
              "    }\n",
              "\n",
              "    .dataframe thead th {\n",
              "        text-align: right;\n",
              "    }\n",
              "</style>\n",
              "<table border=\"1\" class=\"dataframe\">\n",
              "  <thead>\n",
              "    <tr style=\"text-align: right;\">\n",
              "      <th></th>\n",
              "      <th>CreditScore</th>\n",
              "      <th>Age</th>\n",
              "      <th>Tenure</th>\n",
              "      <th>Balance</th>\n",
              "      <th>NumOfProducts</th>\n",
              "      <th>HasCrCard</th>\n",
              "      <th>IsActiveMember</th>\n",
              "      <th>EstimatedSalary</th>\n",
              "      <th>France</th>\n",
              "      <th>Spain</th>\n",
              "      <th>Germany</th>\n",
              "      <th>Female</th>\n",
              "      <th>Male</th>\n",
              "    </tr>\n",
              "  </thead>\n",
              "  <tbody>\n",
              "    <tr>\n",
              "      <th>8155</th>\n",
              "      <td>799</td>\n",
              "      <td>38</td>\n",
              "      <td>2</td>\n",
              "      <td>0.00</td>\n",
              "      <td>2</td>\n",
              "      <td>1</td>\n",
              "      <td>1</td>\n",
              "      <td>59297.34</td>\n",
              "      <td>0.0</td>\n",
              "      <td>1.0</td>\n",
              "      <td>0.0</td>\n",
              "      <td>0.0</td>\n",
              "      <td>1.0</td>\n",
              "    </tr>\n",
              "    <tr>\n",
              "      <th>2344</th>\n",
              "      <td>714</td>\n",
              "      <td>49</td>\n",
              "      <td>4</td>\n",
              "      <td>93059.34</td>\n",
              "      <td>1</td>\n",
              "      <td>1</td>\n",
              "      <td>0</td>\n",
              "      <td>7571.51</td>\n",
              "      <td>0.0</td>\n",
              "      <td>0.0</td>\n",
              "      <td>1.0</td>\n",
              "      <td>1.0</td>\n",
              "      <td>0.0</td>\n",
              "    </tr>\n",
              "    <tr>\n",
              "      <th>9338</th>\n",
              "      <td>558</td>\n",
              "      <td>58</td>\n",
              "      <td>2</td>\n",
              "      <td>142537.18</td>\n",
              "      <td>1</td>\n",
              "      <td>1</td>\n",
              "      <td>1</td>\n",
              "      <td>88791.83</td>\n",
              "      <td>0.0</td>\n",
              "      <td>0.0</td>\n",
              "      <td>1.0</td>\n",
              "      <td>0.0</td>\n",
              "      <td>1.0</td>\n",
              "    </tr>\n",
              "    <tr>\n",
              "      <th>415</th>\n",
              "      <td>626</td>\n",
              "      <td>26</td>\n",
              "      <td>8</td>\n",
              "      <td>0.00</td>\n",
              "      <td>2</td>\n",
              "      <td>0</td>\n",
              "      <td>0</td>\n",
              "      <td>191420.71</td>\n",
              "      <td>0.0</td>\n",
              "      <td>1.0</td>\n",
              "      <td>0.0</td>\n",
              "      <td>0.0</td>\n",
              "      <td>1.0</td>\n",
              "    </tr>\n",
              "    <tr>\n",
              "      <th>949</th>\n",
              "      <td>684</td>\n",
              "      <td>48</td>\n",
              "      <td>3</td>\n",
              "      <td>73309.38</td>\n",
              "      <td>1</td>\n",
              "      <td>0</td>\n",
              "      <td>0</td>\n",
              "      <td>21228.34</td>\n",
              "      <td>1.0</td>\n",
              "      <td>0.0</td>\n",
              "      <td>0.0</td>\n",
              "      <td>1.0</td>\n",
              "      <td>0.0</td>\n",
              "    </tr>\n",
              "  </tbody>\n",
              "</table>\n",
              "</div>"
            ],
            "text/plain": [
              "      CreditScore  Age  Tenure    Balance  ...  Spain  Germany  Female  Male\n",
              "8155          799   38       2       0.00  ...    1.0      0.0     0.0   1.0\n",
              "2344          714   49       4   93059.34  ...    0.0      1.0     1.0   0.0\n",
              "9338          558   58       2  142537.18  ...    0.0      1.0     0.0   1.0\n",
              "415           626   26       8       0.00  ...    1.0      0.0     0.0   1.0\n",
              "949           684   48       3   73309.38  ...    0.0      0.0     1.0   0.0\n",
              "\n",
              "[5 rows x 13 columns]"
            ]
          },
          "metadata": {
            "tags": []
          },
          "execution_count": 1
        }
      ]
    },
    {
      "cell_type": "markdown",
      "metadata": {
        "colab_type": "text",
        "id": "sFy9demSjAup"
      },
      "source": [
        "# 1. Build a Model without Normalization"
      ]
    },
    {
      "cell_type": "code",
      "metadata": {
        "colab_type": "code",
        "id": "baiKQlaUD-If",
        "outputId": "544b7921-fd80-4d04-86e9-978e0fa67bce",
        "colab": {
          "base_uri": "https://localhost:8080/",
          "height": 156
        }
      },
      "source": [
        "#create a model\n",
        "\n",
        "import keras \n",
        "from keras.models import Model\n",
        "from keras.layers import Dense, Input\n",
        "from keras.optimizers import Adam, SGD\n",
        "\n",
        "inputs = Input(shape=(x_train.shape[1],))\n",
        "x = Dense(40, activation='relu')(inputs)\n",
        "y = Dense(40, activation='relu')(x)\n",
        "predictions = Dense(1, activation='sigmoid')(y)\n",
        "\n",
        "model = Model(inputs=inputs, outputs=predictions)"
      ],
      "execution_count": 0,
      "outputs": [
        {
          "output_type": "stream",
          "text": [
            "WARNING: Logging before flag parsing goes to stderr.\n",
            "W0715 09:57:07.044667 140099736930176 deprecation_wrapper.py:119] From /usr/local/lib/python3.6/dist-packages/keras/backend/tensorflow_backend.py:74: The name tf.get_default_graph is deprecated. Please use tf.compat.v1.get_default_graph instead.\n",
            "\n",
            "W0715 09:57:07.068065 140099736930176 deprecation_wrapper.py:119] From /usr/local/lib/python3.6/dist-packages/keras/backend/tensorflow_backend.py:517: The name tf.placeholder is deprecated. Please use tf.compat.v1.placeholder instead.\n",
            "\n",
            "W0715 09:57:07.073822 140099736930176 deprecation_wrapper.py:119] From /usr/local/lib/python3.6/dist-packages/keras/backend/tensorflow_backend.py:4138: The name tf.random_uniform is deprecated. Please use tf.random.uniform instead.\n",
            "\n"
          ],
          "name": "stderr"
        }
      ]
    },
    {
      "cell_type": "code",
      "metadata": {
        "colab_type": "code",
        "id": "vJ3oLT_sjGrf",
        "outputId": "fc85c410-36ab-43a1-d209-25fd96ecabd2",
        "colab": {
          "base_uri": "https://localhost:8080/",
          "height": 71
        }
      },
      "source": [
        "# Compile the Model\n",
        "sgd = SGD(lr=0.0001, decay=1e-6, momentum=0.9, nesterov=True)\n",
        "model.compile(loss='mean_squared_error',\n",
        "              optimizer=sgd,\n",
        "              metrics=['accuracy'])"
      ],
      "execution_count": 0,
      "outputs": [
        {
          "output_type": "stream",
          "text": [
            "W0715 09:57:07.143175 140099736930176 deprecation_wrapper.py:119] From /usr/local/lib/python3.6/dist-packages/keras/optimizers.py:790: The name tf.train.Optimizer is deprecated. Please use tf.compat.v1.train.Optimizer instead.\n",
            "\n"
          ],
          "name": "stderr"
        }
      ]
    },
    {
      "cell_type": "code",
      "metadata": {
        "colab_type": "code",
        "id": "7nWAvTZMEpYx",
        "outputId": "45f93021-b681-4970-c5d8-b5206b012bb8",
        "colab": {
          "base_uri": "https://localhost:8080/",
          "height": 272
        }
      },
      "source": [
        "# print summary of your model\n",
        "model.summary()"
      ],
      "execution_count": 0,
      "outputs": [
        {
          "output_type": "stream",
          "text": [
            "_________________________________________________________________\n",
            "Layer (type)                 Output Shape              Param #   \n",
            "=================================================================\n",
            "input_1 (InputLayer)         (None, 13)                0         \n",
            "_________________________________________________________________\n",
            "dense_1 (Dense)              (None, 40)                560       \n",
            "_________________________________________________________________\n",
            "dense_2 (Dense)              (None, 40)                1640      \n",
            "_________________________________________________________________\n",
            "dense_3 (Dense)              (None, 1)                 41        \n",
            "=================================================================\n",
            "Total params: 2,241\n",
            "Trainable params: 2,241\n",
            "Non-trainable params: 0\n",
            "_________________________________________________________________\n"
          ],
          "name": "stdout"
        }
      ]
    },
    {
      "cell_type": "code",
      "metadata": {
        "colab_type": "code",
        "id": "zJ_igkhllNff",
        "outputId": "23e76bf7-c754-4611-a428-dc53ba2d4a97",
        "colab": {
          "base_uri": "https://localhost:8080/",
          "height": 190
        }
      },
      "source": [
        "# Fit the model\n",
        "history = model.fit(x_train, y_train,\n",
        "          epochs=2, batch_size=128, validation_data=(x_test, y_test))\n",
        "\n"
      ],
      "execution_count": 0,
      "outputs": [
        {
          "output_type": "stream",
          "text": [
            "W0715 09:57:07.296270 140099736930176 deprecation_wrapper.py:119] From /usr/local/lib/python3.6/dist-packages/keras/backend/tensorflow_backend.py:986: The name tf.assign_add is deprecated. Please use tf.compat.v1.assign_add instead.\n",
            "\n",
            "W0715 09:57:07.337880 140099736930176 deprecation_wrapper.py:119] From /usr/local/lib/python3.6/dist-packages/keras/backend/tensorflow_backend.py:973: The name tf.assign is deprecated. Please use tf.compat.v1.assign instead.\n",
            "\n"
          ],
          "name": "stderr"
        },
        {
          "output_type": "stream",
          "text": [
            "Train on 8000 samples, validate on 2000 samples\n",
            "Epoch 1/2\n",
            "8000/8000 [==============================] - 0s 29us/step - loss: 0.2046 - acc: 0.7954 - val_loss: 0.2000 - val_acc: 0.8000\n",
            "Epoch 2/2\n",
            "8000/8000 [==============================] - 0s 11us/step - loss: 0.2046 - acc: 0.7954 - val_loss: 0.2000 - val_acc: 0.8000\n"
          ],
          "name": "stdout"
        }
      ]
    },
    {
      "cell_type": "code",
      "metadata": {
        "colab_type": "code",
        "id": "_mbgquEWlhdY",
        "outputId": "35374101-3101-4d1a-f110-dfdefc5d07ca",
        "colab": {
          "base_uri": "https://localhost:8080/",
          "height": 34
        }
      },
      "source": [
        "# ٍEvaluate the Model\n",
        "score = model.evaluate(x_test, y_test, batch_size=128)"
      ],
      "execution_count": 0,
      "outputs": [
        {
          "output_type": "stream",
          "text": [
            "2000/2000 [==============================] - 0s 8us/step\n"
          ],
          "name": "stdout"
        }
      ]
    },
    {
      "cell_type": "code",
      "metadata": {
        "colab_type": "code",
        "id": "7uFiLhHKlnxD",
        "outputId": "5b34ba84-b21a-4884-b348-a075267166f6",
        "colab": {
          "base_uri": "https://localhost:8080/",
          "height": 573
        }
      },
      "source": [
        "# Visualize the Model\n",
        "import matplotlib.pyplot as plt\n",
        "# Plot training & validation accuracy values\n",
        "plt.plot(history.history['acc'])\n",
        "plt.plot(history.history['val_acc'])\n",
        "plt.title('Model accuracy')\n",
        "plt.ylabel('Accuracy')\n",
        "plt.xlabel('Epoch')\n",
        "plt.legend(['Train', 'Test'], loc='upper left')\n",
        "plt.show()\n",
        "\n",
        "# Plot training & validation loss values\n",
        "plt.plot(history.history['loss'])\n",
        "plt.plot(history.history['val_loss'])\n",
        "plt.title('Model loss')\n",
        "plt.ylabel('Loss')\n",
        "plt.xlabel('Epoch')\n",
        "plt.legend(['Train', 'Test'], loc='upper left')\n",
        "plt.show()"
      ],
      "execution_count": 0,
      "outputs": [
        {
          "output_type": "display_data",
          "data": {
            "image/png": "[encoded data removed]",
            "text/plain": [
              "<Figure size 432x288 with 1 Axes>"
            ]
          },
          "metadata": {
            "tags": []
          }
        },
        {
          "output_type": "display_data",
          "data": {
            "image/png": "[encoded data removed]",
            "text/plain": [
              "<Figure size 432x288 with 1 Axes>"
            ]
          },
          "metadata": {
            "tags": []
          }
        }
      ]
    },
    {
      "cell_type": "markdown",
      "metadata": {
        "colab_type": "text",
        "id": "oGqTD1aEjH0v"
      },
      "source": [
        "# 2. Build a Model with Normalization "
      ]
    },
    {
      "cell_type": "code",
      "metadata": {
        "colab_type": "code",
        "id": "a7H32sDHl4Jx",
        "colab": {}
      },
      "source": [
        "# Load data set"
      ],
      "execution_count": 0,
      "outputs": []
    },
    {
      "cell_type": "code",
      "metadata": {
        "colab_type": "code",
        "id": "I-f2ff5Hl4J0",
        "outputId": "f93f7e78-62cb-4680-9e75-d4c665dd3ef1",
        "colab": {
          "base_uri": "https://localhost:8080/",
          "height": 156
        }
      },
      "source": [
        "# Create a Model\n",
        "\n",
        "#normalizing \n",
        "\n",
        "ourNormalData = ourdata.copy()\n",
        "cols_to_norm = ['CreditScore', 'Age', 'Tenure', 'Balance', 'NumOfProducts', 'HasCrCard','IsActiveMember', 'EstimatedSalary']\n",
        "ourNormalData[cols_to_norm] = ourdata[cols_to_norm].apply(lambda x: (x - x.min())/ (x.max() - x.min()) )\n",
        "\n",
        "import keras \n",
        "from keras.models import Model,Sequential\n",
        "from keras.layers import Dense, Input\n",
        "from keras.optimizers import Adam, SGD, Adagrad\n",
        "from keras.losses import binary_crossentropy\n",
        "\n",
        "\n",
        "model = Sequential()\n",
        "model.add(Dense(6, input_dim=13, activation='relu'))\n",
        "model.add(Dense(6, activation='relu'))\n",
        "model.add(Dense(1, activation='sigmoid'))\n",
        "\n",
        "\n",
        "\n"
      ],
      "execution_count": 0,
      "outputs": [
        {
          "output_type": "stream",
          "text": [
            "WARNING: Logging before flag parsing goes to stderr.\n",
            "W0715 10:07:43.277745 140400502249344 deprecation_wrapper.py:119] From /usr/local/lib/python3.6/dist-packages/keras/backend/tensorflow_backend.py:74: The name tf.get_default_graph is deprecated. Please use tf.compat.v1.get_default_graph instead.\n",
            "\n",
            "W0715 10:07:43.293449 140400502249344 deprecation_wrapper.py:119] From /usr/local/lib/python3.6/dist-packages/keras/backend/tensorflow_backend.py:517: The name tf.placeholder is deprecated. Please use tf.compat.v1.placeholder instead.\n",
            "\n",
            "W0715 10:07:43.296637 140400502249344 deprecation_wrapper.py:119] From /usr/local/lib/python3.6/dist-packages/keras/backend/tensorflow_backend.py:4138: The name tf.random_uniform is deprecated. Please use tf.random.uniform instead.\n",
            "\n"
          ],
          "name": "stderr"
        }
      ]
    },
    {
      "cell_type": "code",
      "metadata": {
        "colab_type": "code",
        "id": "1wUKiIrSl4J3",
        "outputId": "d63d63ca-1608-4363-d780-98f3cab57078",
        "colab": {
          "base_uri": "https://localhost:8080/",
          "height": 156
        }
      },
      "source": [
        "# adam = Adam()\n",
        "model.compile(loss='binary_crossentropy',\n",
        "              optimizer='adam',\n",
        "              metrics=['accuracy'])"
      ],
      "execution_count": 0,
      "outputs": [
        {
          "output_type": "stream",
          "text": [
            "W0715 10:07:43.346904 140400502249344 deprecation_wrapper.py:119] From /usr/local/lib/python3.6/dist-packages/keras/optimizers.py:790: The name tf.train.Optimizer is deprecated. Please use tf.compat.v1.train.Optimizer instead.\n",
            "\n",
            "W0715 10:07:43.375340 140400502249344 deprecation_wrapper.py:119] From /usr/local/lib/python3.6/dist-packages/keras/backend/tensorflow_backend.py:3376: The name tf.log is deprecated. Please use tf.math.log instead.\n",
            "\n",
            "W0715 10:07:43.382767 140400502249344 deprecation.py:323] From /usr/local/lib/python3.6/dist-packages/tensorflow/python/ops/nn_impl.py:180: add_dispatch_support.<locals>.wrapper (from tensorflow.python.ops.array_ops) is deprecated and will be removed in a future version.\n",
            "Instructions for updating:\n",
            "Use tf.where in 2.0, which has the same broadcast rule as np.where\n"
          ],
          "name": "stderr"
        }
      ]
    },
    {
      "cell_type": "code",
      "metadata": {
        "colab_type": "code",
        "id": "wotuXpVoExN8",
        "outputId": "9465fd59-6295-4197-9917-8c62b661105d",
        "colab": {
          "base_uri": "https://localhost:8080/",
          "height": 238
        }
      },
      "source": [
        "# print summary of your model\n",
        "model.summary()"
      ],
      "execution_count": 0,
      "outputs": [
        {
          "output_type": "stream",
          "text": [
            "_________________________________________________________________\n",
            "Layer (type)                 Output Shape              Param #   \n",
            "=================================================================\n",
            "dense_1 (Dense)              (None, 6)                 84        \n",
            "_________________________________________________________________\n",
            "dense_2 (Dense)              (None, 6)                 42        \n",
            "_________________________________________________________________\n",
            "dense_3 (Dense)              (None, 1)                 7         \n",
            "=================================================================\n",
            "Total params: 133\n",
            "Trainable params: 133\n",
            "Non-trainable params: 0\n",
            "_________________________________________________________________\n"
          ],
          "name": "stdout"
        }
      ]
    },
    {
      "cell_type": "code",
      "metadata": {
        "colab_type": "code",
        "id": "_iikfVFvl4J6",
        "outputId": "861520c8-ad3e-47d1-f794-7a7b2a24538b",
        "colab": {
          "base_uri": "https://localhost:8080/",
          "height": 258
        }
      },
      "source": [
        "# Fit the model\n",
        "\n",
        "# class_weights = {1: 0.6,\n",
        "#                  0 : 0.4}\n",
        "\n",
        "history = model.fit(x_train, y_train,\n",
        "          epochs=5,\n",
        "          validation_data=(x_test, y_test))"
      ],
      "execution_count": 0,
      "outputs": [
        {
          "output_type": "stream",
          "text": [
            "W0715 10:07:43.584431 140400502249344 deprecation_wrapper.py:119] From /usr/local/lib/python3.6/dist-packages/keras/backend/tensorflow_backend.py:986: The name tf.assign_add is deprecated. Please use tf.compat.v1.assign_add instead.\n",
            "\n"
          ],
          "name": "stderr"
        },
        {
          "output_type": "stream",
          "text": [
            "Train on 8000 samples, validate on 2000 samples\n",
            "Epoch 1/5\n",
            "8000/8000 [==============================] - 1s 70us/step - loss: 2.7945 - acc: 0.7962 - val_loss: 2.8225 - val_acc: 0.7945\n",
            "Epoch 2/5\n",
            "8000/8000 [==============================] - 0s 41us/step - loss: 2.6154 - acc: 0.7967 - val_loss: 2.7513 - val_acc: 0.7945\n",
            "Epoch 3/5\n",
            "8000/8000 [==============================] - 0s 41us/step - loss: 2.5965 - acc: 0.7967 - val_loss: 2.7450 - val_acc: 0.7945\n",
            "Epoch 4/5\n",
            "8000/8000 [==============================] - 0s 42us/step - loss: 2.5949 - acc: 0.7967 - val_loss: 2.7441 - val_acc: 0.7945\n",
            "Epoch 5/5\n",
            "8000/8000 [==============================] - 0s 41us/step - loss: 2.5947 - acc: 0.7967 - val_loss: 2.7440 - val_acc: 0.7945\n"
          ],
          "name": "stdout"
        }
      ]
    },
    {
      "cell_type": "code",
      "metadata": {
        "colab_type": "code",
        "id": "ccBKtDI7l4J_",
        "outputId": "e09580fe-0494-4000-e039-57b23033d26d",
        "colab": {
          "base_uri": "https://localhost:8080/",
          "height": 34
        }
      },
      "source": [
        "# ٍEvaluate the Model\n",
        "score = model.evaluate(x_test, y_test, batch_size=50)"
      ],
      "execution_count": 0,
      "outputs": [
        {
          "output_type": "stream",
          "text": [
            "2000/2000 [==============================] - 0s 14us/step\n"
          ],
          "name": "stdout"
        }
      ]
    },
    {
      "cell_type": "code",
      "metadata": {
        "colab_type": "code",
        "id": "TJkaPdkOl4KB",
        "outputId": "83341bb0-755a-4a8d-dcd6-cf3dee45ed4f",
        "colab": {
          "base_uri": "https://localhost:8080/",
          "height": 573
        }
      },
      "source": [
        "# Visualize the Model\n",
        "# Visualize the Model\n",
        "import matplotlib.pyplot as plt\n",
        "# Plot training & validation accuracy values\n",
        "plt.plot(history.history['acc'])\n",
        "plt.plot(history.history['val_acc'])\n",
        "plt.title('Model accuracy')\n",
        "plt.ylabel('Accuracy')\n",
        "plt.xlabel('Epoch')\n",
        "plt.legend(['Train', 'Test'], loc='upper left')\n",
        "plt.show()\n",
        "\n",
        "# Plot training & validation loss values\n",
        "plt.plot(history.history['loss'])\n",
        "plt.plot(history.history['val_loss'])\n",
        "plt.title('Model loss')\n",
        "plt.ylabel('Loss')\n",
        "plt.xlabel('Epoch')\n",
        "plt.legend(['Train', 'Test'], loc='upper left')\n",
        "plt.show()"
      ],
      "execution_count": 0,
      "outputs": [
        {
          "output_type": "display_data",
          "data": {
            "image/png": "[encoded data removed]",
            "text/plain": [
              "<Figure size 432x288 with 1 Axes>"
            ]
          },
          "metadata": {
            "tags": []
          }
        },
        {
          "output_type": "display_data",
          "data": {
            "image/png": "[encoded data removed]",
            "text/plain": [
              "<Figure size 432x288 with 1 Axes>"
            ]
          },
          "metadata": {
            "tags": []
          }
        }
      ]
    },
    {
      "cell_type": "markdown",
      "metadata": {
        "colab_type": "text",
        "id": "O6W_RJrVjsWo"
      },
      "source": [
        "# 3. Build a Model with Normalization L2 Regularization "
      ]
    },
    {
      "cell_type": "code",
      "metadata": {
        "colab_type": "code",
        "id": "iEYfR8UOud3O",
        "colab": {}
      },
      "source": [
        "# Load data set"
      ],
      "execution_count": 0,
      "outputs": []
    },
    {
      "cell_type": "code",
      "metadata": {
        "colab_type": "code",
        "id": "W9WGptqqud3T",
        "outputId": "dbeadd91-4356-465c-89fb-8067035a4f38",
        "colab": {
          "base_uri": "https://localhost:8080/",
          "height": 156
        }
      },
      "source": [
        "# Create a Model\n",
        "\n",
        "#normalizing \n",
        "\n",
        "ourNormalData = ourdata.copy()\n",
        "cols_to_norm = ['CreditScore', 'Age', 'Tenure', 'Balance', 'NumOfProducts', 'HasCrCard','IsActiveMember', 'EstimatedSalary']\n",
        "ourNormalData[cols_to_norm] = ourdata[cols_to_norm].apply(lambda x: (x - x.min())/ (x.max() - x.min()) )\n",
        "\n",
        "import keras \n",
        "from keras.models import Model,Sequential\n",
        "from keras.layers import Dense, Input\n",
        "from keras.optimizers import Adam, SGD, Adagrad\n",
        "from keras.losses import binary_crossentropy\n",
        "from keras.regularizers import l2\n",
        "\n",
        "model = Sequential()\n",
        "model.add(Dense(6, input_dim=13, activation='relu'))\n",
        "model.add(Dense(6, kernel_regularizer=l2(0.01), activation='relu'))\n",
        "model.add(Dense(1, activation='sigmoid'))"
      ],
      "execution_count": 0,
      "outputs": [
        {
          "output_type": "stream",
          "text": [
            "WARNING: Logging before flag parsing goes to stderr.\n",
            "W0715 10:08:51.106317 140052379453312 deprecation_wrapper.py:119] From /usr/local/lib/python3.6/dist-packages/keras/backend/tensorflow_backend.py:74: The name tf.get_default_graph is deprecated. Please use tf.compat.v1.get_default_graph instead.\n",
            "\n",
            "W0715 10:08:51.121564 140052379453312 deprecation_wrapper.py:119] From /usr/local/lib/python3.6/dist-packages/keras/backend/tensorflow_backend.py:517: The name tf.placeholder is deprecated. Please use tf.compat.v1.placeholder instead.\n",
            "\n",
            "W0715 10:08:51.124713 140052379453312 deprecation_wrapper.py:119] From /usr/local/lib/python3.6/dist-packages/keras/backend/tensorflow_backend.py:4138: The name tf.random_uniform is deprecated. Please use tf.random.uniform instead.\n",
            "\n"
          ],
          "name": "stderr"
        }
      ]
    },
    {
      "cell_type": "code",
      "metadata": {
        "colab_type": "code",
        "id": "WOwfLV33ud3W",
        "outputId": "87017d81-68bb-4bad-e353-9059b38a3960",
        "colab": {
          "base_uri": "https://localhost:8080/",
          "height": 156
        }
      },
      "source": [
        "# adam = Adam()\n",
        "model.compile(loss='binary_crossentropy',\n",
        "              optimizer='adam',\n",
        "              metrics=['accuracy'])"
      ],
      "execution_count": 0,
      "outputs": [
        {
          "output_type": "stream",
          "text": [
            "W0715 10:08:51.181437 140052379453312 deprecation_wrapper.py:119] From /usr/local/lib/python3.6/dist-packages/keras/optimizers.py:790: The name tf.train.Optimizer is deprecated. Please use tf.compat.v1.train.Optimizer instead.\n",
            "\n",
            "W0715 10:08:51.211218 140052379453312 deprecation_wrapper.py:119] From /usr/local/lib/python3.6/dist-packages/keras/backend/tensorflow_backend.py:3376: The name tf.log is deprecated. Please use tf.math.log instead.\n",
            "\n",
            "W0715 10:08:51.218545 140052379453312 deprecation.py:323] From /usr/local/lib/python3.6/dist-packages/tensorflow/python/ops/nn_impl.py:180: add_dispatch_support.<locals>.wrapper (from tensorflow.python.ops.array_ops) is deprecated and will be removed in a future version.\n",
            "Instructions for updating:\n",
            "Use tf.where in 2.0, which has the same broadcast rule as np.where\n"
          ],
          "name": "stderr"
        }
      ]
    },
    {
      "cell_type": "code",
      "metadata": {
        "colab_type": "code",
        "id": "J4EC4vTYud3Y",
        "outputId": "988f8d0e-6e87-4f22-a794-fbed4c45ef88",
        "colab": {
          "base_uri": "https://localhost:8080/",
          "height": 238
        }
      },
      "source": [
        "# print summary of your model\n",
        "model.summary()"
      ],
      "execution_count": 0,
      "outputs": [
        {
          "output_type": "stream",
          "text": [
            "_________________________________________________________________\n",
            "Layer (type)                 Output Shape              Param #   \n",
            "=================================================================\n",
            "dense_1 (Dense)              (None, 6)                 84        \n",
            "_________________________________________________________________\n",
            "dense_2 (Dense)              (None, 6)                 42        \n",
            "_________________________________________________________________\n",
            "dense_3 (Dense)              (None, 1)                 7         \n",
            "=================================================================\n",
            "Total params: 133\n",
            "Trainable params: 133\n",
            "Non-trainable params: 0\n",
            "_________________________________________________________________\n"
          ],
          "name": "stdout"
        }
      ]
    },
    {
      "cell_type": "code",
      "metadata": {
        "colab_type": "code",
        "id": "bRhcN479ud3b",
        "outputId": "b14789a6-8b07-4af1-b514-1e08ad6c2d0f",
        "colab": {
          "base_uri": "https://localhost:8080/",
          "height": 258
        }
      },
      "source": [
        "# Fit the model\n",
        "\n",
        "# class_weights = {1: 0.6,\n",
        "#                  0 : 0.4}\n",
        "\n",
        "history = model.fit(x_train, y_train,\n",
        "          epochs=5,\n",
        "          validation_data=(x_test, y_test))"
      ],
      "execution_count": 0,
      "outputs": [
        {
          "output_type": "stream",
          "text": [
            "W0715 10:08:51.437037 140052379453312 deprecation_wrapper.py:119] From /usr/local/lib/python3.6/dist-packages/keras/backend/tensorflow_backend.py:986: The name tf.assign_add is deprecated. Please use tf.compat.v1.assign_add instead.\n",
            "\n"
          ],
          "name": "stderr"
        },
        {
          "output_type": "stream",
          "text": [
            "Train on 8000 samples, validate on 2000 samples\n",
            "Epoch 1/5\n",
            "8000/8000 [==============================] - 1s 74us/step - loss: 8.4390 - acc: 0.4716 - val_loss: 8.0066 - val_acc: 0.4995\n",
            "Epoch 2/5\n",
            "8000/8000 [==============================] - 0s 43us/step - loss: 7.5574 - acc: 0.5269 - val_loss: 5.7263 - val_acc: 0.6425\n",
            "Epoch 3/5\n",
            "8000/8000 [==============================] - 0s 41us/step - loss: 4.2758 - acc: 0.7337 - val_loss: 3.2573 - val_acc: 0.7985\n",
            "Epoch 4/5\n",
            "8000/8000 [==============================] - 0s 41us/step - loss: 3.2946 - acc: 0.7957 - val_loss: 3.2568 - val_acc: 0.7985\n",
            "Epoch 5/5\n",
            "8000/8000 [==============================] - 0s 42us/step - loss: 3.2944 - acc: 0.7957 - val_loss: 3.2567 - val_acc: 0.7985\n"
          ],
          "name": "stdout"
        }
      ]
    },
    {
      "cell_type": "code",
      "metadata": {
        "colab_type": "code",
        "id": "elhnhzawud3e",
        "outputId": "035412d3-0b90-48e7-ed61-316a1ce5dcb9",
        "colab": {
          "base_uri": "https://localhost:8080/",
          "height": 34
        }
      },
      "source": [
        "# ٍEvaluate the Model\n",
        "score = model.evaluate(x_test, y_test, batch_size=50)"
      ],
      "execution_count": 0,
      "outputs": [
        {
          "output_type": "stream",
          "text": [
            "2000/2000 [==============================] - 0s 14us/step\n"
          ],
          "name": "stdout"
        }
      ]
    },
    {
      "cell_type": "code",
      "metadata": {
        "colab_type": "code",
        "id": "idg4ValAud3h",
        "outputId": "d9790238-5b60-426e-ea6d-d9143ef69be8",
        "colab": {
          "base_uri": "https://localhost:8080/",
          "height": 573
        }
      },
      "source": [
        "# Visualize the Model\n",
        "# Visualize the Model\n",
        "import matplotlib.pyplot as plt\n",
        "# Plot training & validation accuracy values\n",
        "plt.plot(history.history['acc'])\n",
        "plt.plot(history.history['val_acc'])\n",
        "plt.title('Model accuracy')\n",
        "plt.ylabel('Accuracy')\n",
        "plt.xlabel('Epoch')\n",
        "plt.legend(['Train', 'Test'], loc='upper left')\n",
        "plt.show()\n",
        "\n",
        "# Plot training & validation loss values\n",
        "plt.plot(history.history['loss'])\n",
        "plt.plot(history.history['val_loss'])\n",
        "plt.title('Model loss')\n",
        "plt.ylabel('Loss')\n",
        "plt.xlabel('Epoch')\n",
        "plt.legend(['Train', 'Test'], loc='upper left')\n",
        "plt.show()"
      ],
      "execution_count": 0,
      "outputs": [
        {
          "output_type": "display_data",
          "data": {
            "image/png": "[encoded data removed]",
            "text/plain": [
              "<Figure size 432x288 with 1 Axes>"
            ]
          },
          "metadata": {
            "tags": []
          }
        },
        {
          "output_type": "display_data",
          "data": {
            "image/png": "[encoded data removed]",
            "text/plain": [
              "<Figure size 432x288 with 1 Axes>"
            ]
          },
          "metadata": {
            "tags": []
          }
        }
      ]
    },
    {
      "cell_type": "markdown",
      "metadata": {
        "colab_type": "text",
        "id": "jVY3Ykf7jO9e"
      },
      "source": [
        "# 4. Build a Model With Normalization and Dropout"
      ]
    },
    {
      "cell_type": "code",
      "metadata": {
        "colab_type": "code",
        "id": "Z5OuXkqFyNEN",
        "colab": {}
      },
      "source": [
        "# Load data set"
      ],
      "execution_count": 0,
      "outputs": []
    },
    {
      "cell_type": "code",
      "metadata": {
        "colab_type": "code",
        "id": "EuAyHMNXVQff",
        "outputId": "d58c0a58-c7f6-4cb6-8336-b93b4ec2904b",
        "colab": {
          "base_uri": "https://localhost:8080/",
          "height": 241
        }
      },
      "source": [
        "# Create a Model\n",
        "\n",
        "#normalizing \n",
        "\n",
        "ourNormalData = ourdata.copy()\n",
        "cols_to_norm = ['CreditScore', 'Age', 'Tenure', 'Balance', 'NumOfProducts', 'HasCrCard','IsActiveMember', 'EstimatedSalary']\n",
        "ourNormalData[cols_to_norm] = ourdata[cols_to_norm].apply(lambda x: (x - x.min())/ (x.max() - x.min()) )\n",
        "\n",
        "import keras \n",
        "from keras.models import Model,Sequential\n",
        "from keras.layers import Dense, Input, Dropout\n",
        "from keras.optimizers import Adam, SGD, Adagrad, RMSprop, Adadelta\n",
        "from keras.losses import binary_crossentropy\n",
        "from keras.regularizers import l2\n",
        "\n",
        "model = Sequential()\n",
        "model.add(Dense(12 ,input_dim=13, activation='relu'))\n",
        "model.add(Dense(12, activation='relu'))\n",
        "model.add(Dropout(0.5))\n",
        "model.add(Dense(1, activation='sigmoid'))"
      ],
      "execution_count": 0,
      "outputs": [
        {
          "output_type": "stream",
          "text": [
            "WARNING: Logging before flag parsing goes to stderr.\n",
            "W0715 11:24:06.909393 140261786228608 deprecation_wrapper.py:119] From /usr/local/lib/python3.6/dist-packages/keras/backend/tensorflow_backend.py:74: The name tf.get_default_graph is deprecated. Please use tf.compat.v1.get_default_graph instead.\n",
            "\n",
            "W0715 11:24:06.926891 140261786228608 deprecation_wrapper.py:119] From /usr/local/lib/python3.6/dist-packages/keras/backend/tensorflow_backend.py:517: The name tf.placeholder is deprecated. Please use tf.compat.v1.placeholder instead.\n",
            "\n",
            "W0715 11:24:06.934031 140261786228608 deprecation_wrapper.py:119] From /usr/local/lib/python3.6/dist-packages/keras/backend/tensorflow_backend.py:4138: The name tf.random_uniform is deprecated. Please use tf.random.uniform instead.\n",
            "\n",
            "W0715 11:24:06.965519 140261786228608 deprecation_wrapper.py:119] From /usr/local/lib/python3.6/dist-packages/keras/backend/tensorflow_backend.py:133: The name tf.placeholder_with_default is deprecated. Please use tf.compat.v1.placeholder_with_default instead.\n",
            "\n",
            "W0715 11:24:06.979346 140261786228608 deprecation.py:506] From /usr/local/lib/python3.6/dist-packages/keras/backend/tensorflow_backend.py:3445: calling dropout (from tensorflow.python.ops.nn_ops) with keep_prob is deprecated and will be removed in a future version.\n",
            "Instructions for updating:\n",
            "Please use `rate` instead of `keep_prob`. Rate should be set to `rate = 1 - keep_prob`.\n"
          ],
          "name": "stderr"
        }
      ]
    },
    {
      "cell_type": "code",
      "metadata": {
        "colab_type": "code",
        "id": "X9ym7hrgWXbH",
        "outputId": "19effe51-2843-4125-9118-5da6b2e0adf7",
        "colab": {
          "base_uri": "https://localhost:8080/",
          "height": 156
        }
      },
      "source": [
        "adam = RMSprop(lr = 0.001)\n",
        "model.compile(loss='binary_crossentropy',\n",
        "              optimizer=adam,\n",
        "              metrics=['accuracy'])"
      ],
      "execution_count": 0,
      "outputs": [
        {
          "output_type": "stream",
          "text": [
            "W0715 11:24:07.037839 140261786228608 deprecation_wrapper.py:119] From /usr/local/lib/python3.6/dist-packages/keras/optimizers.py:790: The name tf.train.Optimizer is deprecated. Please use tf.compat.v1.train.Optimizer instead.\n",
            "\n",
            "W0715 11:24:07.045357 140261786228608 deprecation_wrapper.py:119] From /usr/local/lib/python3.6/dist-packages/keras/backend/tensorflow_backend.py:3376: The name tf.log is deprecated. Please use tf.math.log instead.\n",
            "\n",
            "W0715 11:24:07.052277 140261786228608 deprecation.py:323] From /usr/local/lib/python3.6/dist-packages/tensorflow/python/ops/nn_impl.py:180: add_dispatch_support.<locals>.wrapper (from tensorflow.python.ops.array_ops) is deprecated and will be removed in a future version.\n",
            "Instructions for updating:\n",
            "Use tf.where in 2.0, which has the same broadcast rule as np.where\n"
          ],
          "name": "stderr"
        }
      ]
    },
    {
      "cell_type": "code",
      "metadata": {
        "colab_type": "code",
        "id": "FFJUQlMDyNEZ",
        "outputId": "d4e02cd3-e5ae-4d05-830e-ad20ce1e538c",
        "colab": {
          "base_uri": "https://localhost:8080/",
          "height": 272
        }
      },
      "source": [
        "# print summary of your model\n",
        "model.summary()"
      ],
      "execution_count": 0,
      "outputs": [
        {
          "output_type": "stream",
          "text": [
            "_________________________________________________________________\n",
            "Layer (type)                 Output Shape              Param #   \n",
            "=================================================================\n",
            "dense_1 (Dense)              (None, 12)                168       \n",
            "_________________________________________________________________\n",
            "dense_2 (Dense)              (None, 12)                156       \n",
            "_________________________________________________________________\n",
            "dropout_1 (Dropout)          (None, 12)                0         \n",
            "_________________________________________________________________\n",
            "dense_3 (Dense)              (None, 1)                 13        \n",
            "=================================================================\n",
            "Total params: 337\n",
            "Trainable params: 337\n",
            "Non-trainable params: 0\n",
            "_________________________________________________________________\n"
          ],
          "name": "stdout"
        }
      ]
    },
    {
      "cell_type": "code",
      "metadata": {
        "colab_type": "code",
        "id": "OcjvdbunyNEc",
        "outputId": "f447635c-1b1d-4c42-fb7a-74cd9ef0e560",
        "colab": {
          "base_uri": "https://localhost:8080/",
          "height": 1000
        }
      },
      "source": [
        "# Fit the model\n",
        "\n",
        "# class_weights = {1: 0.6,\n",
        "#                  0 : 0.4}\n",
        "\n",
        "history = model.fit(x_train, y_train,\n",
        "          epochs=50,\n",
        "          validation_data=(x_test, y_test))"
      ],
      "execution_count": 0,
      "outputs": [
        {
          "output_type": "stream",
          "text": [
            "Train on 8000 samples, validate on 2000 samples\n",
            "Epoch 1/50\n",
            "8000/8000 [==============================] - 1s 71us/step - loss: 4.2033 - acc: 0.7259 - val_loss: 3.3207 - val_acc: 0.7935\n",
            "Epoch 2/50\n",
            "8000/8000 [==============================] - 0s 44us/step - loss: 3.9002 - acc: 0.7455 - val_loss: 3.3050 - val_acc: 0.7945\n",
            "Epoch 3/50\n",
            "8000/8000 [==============================] - 0s 43us/step - loss: 3.5538 - acc: 0.7660 - val_loss: 3.2988 - val_acc: 0.7950\n",
            "Epoch 4/50\n",
            "8000/8000 [==============================] - 0s 43us/step - loss: 3.4696 - acc: 0.7714 - val_loss: 3.2959 - val_acc: 0.7955\n",
            "Epoch 5/50\n",
            "8000/8000 [==============================] - 0s 42us/step - loss: 3.6063 - acc: 0.7650 - val_loss: 3.2959 - val_acc: 0.7955\n",
            "Epoch 6/50\n",
            "8000/8000 [==============================] - 0s 44us/step - loss: 3.3813 - acc: 0.7752 - val_loss: 3.2959 - val_acc: 0.7955\n",
            "Epoch 7/50\n",
            "8000/8000 [==============================] - 0s 42us/step - loss: 3.4444 - acc: 0.7755 - val_loss: 3.2959 - val_acc: 0.7955\n",
            "Epoch 8/50\n",
            "8000/8000 [==============================] - 0s 43us/step - loss: 3.4420 - acc: 0.7746 - val_loss: 3.2959 - val_acc: 0.7955\n",
            "Epoch 9/50\n",
            "8000/8000 [==============================] - 0s 42us/step - loss: 3.4161 - acc: 0.7761 - val_loss: 3.2959 - val_acc: 0.7955\n",
            "Epoch 10/50\n",
            "8000/8000 [==============================] - 0s 43us/step - loss: 3.3523 - acc: 0.7789 - val_loss: 3.2959 - val_acc: 0.7955\n",
            "Epoch 11/50\n",
            "8000/8000 [==============================] - 0s 43us/step - loss: 3.3499 - acc: 0.7810 - val_loss: 3.2959 - val_acc: 0.7955\n",
            "Epoch 12/50\n",
            "8000/8000 [==============================] - 0s 42us/step - loss: 3.2444 - acc: 0.7841 - val_loss: 3.2959 - val_acc: 0.7955\n",
            "Epoch 13/50\n",
            "8000/8000 [==============================] - 0s 42us/step - loss: 3.3610 - acc: 0.7789 - val_loss: 3.2959 - val_acc: 0.7955\n",
            "Epoch 14/50\n",
            "8000/8000 [==============================] - 0s 43us/step - loss: 3.2666 - acc: 0.7831 - val_loss: 3.2959 - val_acc: 0.7955\n",
            "Epoch 15/50\n",
            "8000/8000 [==============================] - 0s 46us/step - loss: 3.4144 - acc: 0.7764 - val_loss: 3.2959 - val_acc: 0.7955\n",
            "Epoch 16/50\n",
            "8000/8000 [==============================] - 0s 43us/step - loss: 3.2925 - acc: 0.7801 - val_loss: 3.2959 - val_acc: 0.7955\n",
            "Epoch 17/50\n",
            "8000/8000 [==============================] - 0s 44us/step - loss: 3.2780 - acc: 0.7846 - val_loss: 3.2959 - val_acc: 0.7955\n",
            "Epoch 18/50\n",
            "8000/8000 [==============================] - 0s 44us/step - loss: 3.2470 - acc: 0.7858 - val_loss: 3.2959 - val_acc: 0.7955\n",
            "Epoch 19/50\n",
            "8000/8000 [==============================] - 0s 44us/step - loss: 3.2403 - acc: 0.7850 - val_loss: 3.2959 - val_acc: 0.7955\n",
            "Epoch 20/50\n",
            "8000/8000 [==============================] - 0s 43us/step - loss: 3.2544 - acc: 0.7865 - val_loss: 3.2959 - val_acc: 0.7955\n",
            "Epoch 21/50\n",
            "8000/8000 [==============================] - 0s 44us/step - loss: 3.2518 - acc: 0.7863 - val_loss: 3.2959 - val_acc: 0.7955\n",
            "Epoch 22/50\n",
            "8000/8000 [==============================] - 0s 45us/step - loss: 3.2147 - acc: 0.7883 - val_loss: 3.2959 - val_acc: 0.7955\n",
            "Epoch 23/50\n",
            "8000/8000 [==============================] - 0s 43us/step - loss: 3.1789 - acc: 0.7895 - val_loss: 3.2959 - val_acc: 0.7955\n",
            "Epoch 24/50\n",
            "8000/8000 [==============================] - 0s 45us/step - loss: 3.1600 - acc: 0.7913 - val_loss: 3.2959 - val_acc: 0.7955\n",
            "Epoch 25/50\n",
            "8000/8000 [==============================] - 0s 43us/step - loss: 3.1486 - acc: 0.7908 - val_loss: 3.2959 - val_acc: 0.7955\n",
            "Epoch 26/50\n",
            "8000/8000 [==============================] - 0s 44us/step - loss: 3.1433 - acc: 0.7908 - val_loss: 3.2959 - val_acc: 0.7955\n",
            "Epoch 27/50\n",
            "8000/8000 [==============================] - 0s 44us/step - loss: 3.0964 - acc: 0.7920 - val_loss: 3.2959 - val_acc: 0.7955\n",
            "Epoch 28/50\n",
            "8000/8000 [==============================] - 0s 42us/step - loss: 3.1365 - acc: 0.7924 - val_loss: 3.2959 - val_acc: 0.7955\n",
            "Epoch 29/50\n",
            "8000/8000 [==============================] - 0s 42us/step - loss: 3.1060 - acc: 0.7919 - val_loss: 3.2959 - val_acc: 0.7955\n",
            "Epoch 30/50\n",
            "8000/8000 [==============================] - 0s 43us/step - loss: 3.1086 - acc: 0.7929 - val_loss: 3.2959 - val_acc: 0.7955\n",
            "Epoch 31/50\n",
            "8000/8000 [==============================] - 0s 44us/step - loss: 3.0767 - acc: 0.7936 - val_loss: 3.2959 - val_acc: 0.7955\n",
            "Epoch 32/50\n",
            "8000/8000 [==============================] - 0s 44us/step - loss: 3.1302 - acc: 0.7926 - val_loss: 3.2959 - val_acc: 0.7955\n",
            "Epoch 33/50\n",
            "8000/8000 [==============================] - 0s 44us/step - loss: 3.1529 - acc: 0.7921 - val_loss: 3.2959 - val_acc: 0.7955\n",
            "Epoch 34/50\n",
            "8000/8000 [==============================] - 0s 42us/step - loss: 3.1116 - acc: 0.7935 - val_loss: 3.2959 - val_acc: 0.7955\n",
            "Epoch 35/50\n",
            "8000/8000 [==============================] - 0s 42us/step - loss: 3.0860 - acc: 0.7937 - val_loss: 3.2959 - val_acc: 0.7955\n",
            "Epoch 36/50\n",
            "8000/8000 [==============================] - 0s 44us/step - loss: 3.1103 - acc: 0.7937 - val_loss: 3.2959 - val_acc: 0.7955\n",
            "Epoch 37/50\n",
            "8000/8000 [==============================] - 0s 42us/step - loss: 3.1037 - acc: 0.7937 - val_loss: 3.2959 - val_acc: 0.7955\n",
            "Epoch 38/50\n",
            "8000/8000 [==============================] - 0s 42us/step - loss: 3.0725 - acc: 0.7944 - val_loss: 3.2945 - val_acc: 0.7955\n",
            "Epoch 39/50\n",
            "8000/8000 [==============================] - 0s 42us/step - loss: 3.0761 - acc: 0.7953 - val_loss: 3.2942 - val_acc: 0.7955\n",
            "Epoch 40/50\n",
            "8000/8000 [==============================] - 0s 43us/step - loss: 3.1307 - acc: 0.7944 - val_loss: 3.2927 - val_acc: 0.7955\n",
            "Epoch 41/50\n",
            "8000/8000 [==============================] - 0s 41us/step - loss: 3.1444 - acc: 0.7939 - val_loss: 3.2927 - val_acc: 0.7955\n",
            "Epoch 42/50\n",
            "8000/8000 [==============================] - 0s 42us/step - loss: 3.1435 - acc: 0.7936 - val_loss: 3.2931 - val_acc: 0.7955\n",
            "Epoch 43/50\n",
            "8000/8000 [==============================] - 0s 42us/step - loss: 3.1015 - acc: 0.7950 - val_loss: 3.2926 - val_acc: 0.7955\n",
            "Epoch 44/50\n",
            "8000/8000 [==============================] - 0s 43us/step - loss: 3.1101 - acc: 0.7944 - val_loss: 3.2926 - val_acc: 0.7955\n",
            "Epoch 45/50\n",
            "8000/8000 [==============================] - 0s 44us/step - loss: 3.1266 - acc: 0.7936 - val_loss: 3.2926 - val_acc: 0.7955\n",
            "Epoch 46/50\n",
            "8000/8000 [==============================] - 0s 42us/step - loss: 3.1349 - acc: 0.7936 - val_loss: 3.2893 - val_acc: 0.7955\n",
            "Epoch 47/50\n",
            "8000/8000 [==============================] - 0s 43us/step - loss: 3.0989 - acc: 0.7951 - val_loss: 3.2920 - val_acc: 0.7955\n",
            "Epoch 48/50\n",
            "8000/8000 [==============================] - 0s 42us/step - loss: 3.0613 - acc: 0.7947 - val_loss: 3.2896 - val_acc: 0.7955\n",
            "Epoch 49/50\n",
            "8000/8000 [==============================] - 0s 43us/step - loss: 3.0999 - acc: 0.7941 - val_loss: 3.2917 - val_acc: 0.7955\n",
            "Epoch 50/50\n",
            "8000/8000 [==============================] - 0s 44us/step - loss: 3.0935 - acc: 0.7946 - val_loss: 3.2917 - val_acc: 0.7955\n"
          ],
          "name": "stdout"
        }
      ]
    },
    {
      "cell_type": "code",
      "metadata": {
        "colab_type": "code",
        "id": "9-Ldw2lWyNEg",
        "outputId": "dfef7a97-ae8c-4962-a46d-9cc13d060b55",
        "colab": {
          "base_uri": "https://localhost:8080/",
          "height": 34
        }
      },
      "source": [
        "# ٍEvaluate the Model\n",
        "score = model.evaluate(x_test, y_test, batch_size=50)"
      ],
      "execution_count": 0,
      "outputs": [
        {
          "output_type": "stream",
          "text": [
            "2000/2000 [==============================] - 0s 15us/step\n"
          ],
          "name": "stdout"
        }
      ]
    },
    {
      "cell_type": "code",
      "metadata": {
        "colab_type": "code",
        "id": "mfduLvYyyNEj",
        "outputId": "e3182bba-0600-48a1-eae5-1f2571bec0cf",
        "colab": {
          "base_uri": "https://localhost:8080/",
          "height": 573
        }
      },
      "source": [
        "# Visualize the Model\n",
        "# Visualize the Model\n",
        "import matplotlib.pyplot as plt\n",
        "# Plot training & validation accuracy values\n",
        "plt.plot(history.history['acc'])\n",
        "plt.plot(history.history['val_acc'])\n",
        "plt.title('Model accuracy')\n",
        "plt.ylabel('Accuracy')\n",
        "plt.xlabel('Epoch')\n",
        "plt.legend(['Train', 'Test'], loc='upper left')\n",
        "plt.show()\n",
        "\n",
        "# Plot training & validation loss values\n",
        "plt.plot(history.history['loss'])\n",
        "plt.plot(history.history['val_loss'])\n",
        "plt.title('Model loss')\n",
        "plt.ylabel('Loss')\n",
        "plt.xlabel('Epoch')\n",
        "plt.legend(['Train', 'Test'], loc='upper left')\n",
        "plt.show()"
      ],
      "execution_count": 0,
      "outputs": [
        {
          "output_type": "display_data",
          "data": {
            "image/png": "[encoded data removed]",
            "text/plain": [
              "<Figure size 432x288 with 1 Axes>"
            ]
          },
          "metadata": {
            "tags": []
          }
        },
        {
          "output_type": "display_data",
          "data": {
            "image/png": "[encoded data removed]",
            "text/plain": [
              "<Figure size 432x288 with 1 Axes>"
            ]
          },
          "metadata": {
            "tags": []
          }
        }
      ]
    },
    {
      "cell_type": "markdown",
      "metadata": {
        "colab_type": "text",
        "id": "FBkqux5hj5Zd"
      },
      "source": [
        "# 5. Try your Best Model "
      ]
    },
    {
      "cell_type": "code",
      "metadata": {
        "colab_type": "code",
        "id": "OTcDvEB5YgSF",
        "colab": {}
      },
      "source": [
        "# Load data set"
      ],
      "execution_count": 0,
      "outputs": []
    },
    {
      "cell_type": "code",
      "metadata": {
        "colab_type": "code",
        "id": "F4RSOGUzYgSJ",
        "colab": {}
      },
      "source": [
        "# Create a Model\n",
        "\n",
        "#normalizing \n",
        "\n",
        "ourNormalData = ourdata.copy()\n",
        "cols_to_norm = ['CreditScore', 'Age', 'Tenure', 'Balance', 'NumOfProducts', 'HasCrCard','IsActiveMember', 'EstimatedSalary']\n",
        "ourNormalData[cols_to_norm] = ourdata[cols_to_norm].apply(lambda x: (x - x.min())/ (x.max() - x.min()) )\n",
        "\n",
        "import keras \n",
        "from keras.models import Model,Sequential\n",
        "from keras.layers import Dense, Input, Dropout\n",
        "from keras.optimizers import Adam, SGD, Adagrad, RMSprop, Adadelta\n",
        "from keras.losses import binary_crossentropy\n",
        "from keras.regularizers import l2\n",
        "\n",
        "model = Sequential()\n",
        "model.add(Dense(12 ,input_dim=13, activation='relu'))\n",
        "model.add(Dense(12, activation='relu'))\n",
        "model.add(Dropout(0.5))\n",
        "model.add(Dense(1, activation='sigmoid'))"
      ],
      "execution_count": 0,
      "outputs": []
    },
    {
      "cell_type": "code",
      "metadata": {
        "colab_type": "code",
        "id": "FCaBqCzyYgSN",
        "colab": {}
      },
      "source": [
        "rmsprop = RMSprop(lr = 0.001)\n",
        "model.compile(loss='binary_crossentropy',\n",
        "              optimizer=rmsprop,\n",
        "              metrics=['accuracy'])"
      ],
      "execution_count": 0,
      "outputs": []
    },
    {
      "cell_type": "code",
      "metadata": {
        "colab_type": "code",
        "id": "6_D1L_k9YgSQ",
        "outputId": "d4e02cd3-e5ae-4d05-830e-ad20ce1e538c",
        "colab": {
          "base_uri": "https://localhost:8080/",
          "height": 272
        }
      },
      "source": [
        "# print summary of your model\n",
        "model.summary()"
      ],
      "execution_count": 0,
      "outputs": [
        {
          "output_type": "stream",
          "text": [
            "_________________________________________________________________\n",
            "Layer (type)                 Output Shape              Param #   \n",
            "=================================================================\n",
            "dense_1 (Dense)              (None, 12)                168       \n",
            "_________________________________________________________________\n",
            "dense_2 (Dense)              (None, 12)                156       \n",
            "_________________________________________________________________\n",
            "dropout_1 (Dropout)          (None, 12)                0         \n",
            "_________________________________________________________________\n",
            "dense_3 (Dense)              (None, 1)                 13        \n",
            "=================================================================\n",
            "Total params: 337\n",
            "Trainable params: 337\n",
            "Non-trainable params: 0\n",
            "_________________________________________________________________\n"
          ],
          "name": "stdout"
        }
      ]
    },
    {
      "cell_type": "code",
      "metadata": {
        "colab_type": "code",
        "id": "EZq7nYuYYgSS",
        "colab": {}
      },
      "source": [
        "# Fit the model\n",
        "\n",
        "# class_weights = {1: 0.6,\n",
        "#                  0 : 0.4}\n",
        "\n",
        "history = model.fit(x_train, y_train,\n",
        "          epochs=50,\n",
        "          validation_data=(x_test, y_test))"
      ],
      "execution_count": 0,
      "outputs": []
    },
    {
      "cell_type": "code",
      "metadata": {
        "colab_type": "code",
        "id": "vB4R7etIYgSW",
        "outputId": "dfef7a97-ae8c-4962-a46d-9cc13d060b55",
        "colab": {
          "base_uri": "https://localhost:8080/",
          "height": 34
        }
      },
      "source": [
        "# ٍEvaluate the Model\n",
        "score = model.evaluate(x_test, y_test, batch_size=50)"
      ],
      "execution_count": 0,
      "outputs": [
        {
          "output_type": "stream",
          "text": [
            "2000/2000 [==============================] - 0s 15us/step\n"
          ],
          "name": "stdout"
        }
      ]
    },
    {
      "cell_type": "code",
      "metadata": {
        "colab_type": "code",
        "id": "MV1rKyjwYgSY",
        "outputId": "e3182bba-0600-48a1-eae5-1f2571bec0cf",
        "colab": {
          "base_uri": "https://localhost:8080/",
          "height": 573
        }
      },
      "source": [
        "# Visualize the Model\n",
        "# Visualize the Model\n",
        "import matplotlib.pyplot as plt\n",
        "# Plot training & validation accuracy values\n",
        "plt.plot(history.history['acc'])\n",
        "plt.plot(history.history['val_acc'])\n",
        "plt.title('Model accuracy')\n",
        "plt.ylabel('Accuracy')\n",
        "plt.xlabel('Epoch')\n",
        "plt.legend(['Train', 'Test'], loc='upper left')\n",
        "plt.show()\n",
        "\n",
        "# Plot training & validation loss values\n",
        "plt.plot(history.history['loss'])\n",
        "plt.plot(history.history['val_loss'])\n",
        "plt.title('Model loss')\n",
        "plt.ylabel('Loss')\n",
        "plt.xlabel('Epoch')\n",
        "plt.legend(['Train', 'Test'], loc='upper left')\n",
        "plt.show()"
      ],
      "execution_count": 0,
      "outputs": [
        {
          "output_type": "display_data",
          "data": {
            "image/png": "[encoded data removed]",
            "text/plain": [
              "<Figure size 432x288 with 1 Axes>"
            ]
          },
          "metadata": {
            "tags": []
          }
        },
        {
          "output_type": "display_data",
          "data": {
            "image/png": "[encoded data removed]",
            "text/plain": [
              "<Figure size 432x288 with 1 Axes>"
            ]
          },
          "metadata": {
            "tags": []
          }
        }
      ]
    },
    {
      "cell_type": "markdown",
      "metadata": {
        "colab_type": "text",
        "id": "5Kjv4zCImDWo"
      },
      "source": [
        "# Your Final Report \n",
        "In this part Compare your results from different models. and explain why you have chosen that structure and hyperparameters for your model in part 5.\n",
        "\n",
        "\n",
        "# My answer:\n",
        "## introduction: \n",
        "in this problem we are predicting if a customer exits the bank if having a certain condition, this is helful to retainig customer loyalty. \n",
        "\n",
        "## preprocessing \n",
        "the preprocessing is essential for a good accuracy.\n",
        "we should doing some normalization (scaling in percise) and one-hot-encodeing for some non binary features like gender or country or etc. \n",
        "and we split the x from y & train from test in proportion of 70 to 30. \n",
        "\n",
        "we are ready to make the model. \n",
        "\n",
        "## create a model \n",
        "for this dataset by intuittion, a 2 or 3 layer, dense, network wih 10 nurons per layer should be enough. \n",
        "we use sigmoid activition for the last layer to get prediction more percise \n",
        "the intermediary layers will activate with relu function. \n",
        "\n",
        "## fitting the model\n",
        "by testing lots of optimizers and adjusting and trying different learning rate(and some googeling) i discover that **RMsProp** optimizer with this learning rate is good for binary classification. we use binary cross entropy for loss function because it is good for classification \n",
        "\n",
        "50 epochs should be enough for getting optimized accuracy and loss, more epochs is unnecessary due to fluctuation of accuracy in fixed area.  \n",
        "\n",
        "first i built a model with 3 layers and 64 neurons per each that was a realy dense network, then i decrese the nuerons to an optimal number. \n",
        "\n",
        "i even try to balace the y with Class_Weigths to get better accuracy but it didnt do anything special so i just comented it. \n",
        "\n",
        "## Visualize \n",
        "\n",
        "<a href=\"https://ibb.co/Db4XtLp\"><img src=\"https://i.ibb.co/KG6ZXmw/Annotation-2019-07-15-175739.jpg\" alt=\"Annotation-2019-07-15-175739\" border=\"0\" width=\"400\" height=\"\"></a>"
      ]
    }
  ]
}